{
 "cells": [
  {
   "cell_type": "code",
   "execution_count": 92,
   "metadata": {
    "collapsed": true
   },
   "outputs": [],
   "source": [
    "## Pkg.add(\"MAT\")\n",
    "using MAT"
   ]
  },
  {
   "cell_type": "code",
   "execution_count": 93,
   "metadata": {
    "collapsed": false
   },
   "outputs": [
    {
     "data": {
      "text/plain": [
       "Dict{String,Any} with 1 entry:\n",
       "  \"Problem\" => Dict{String,Any}(Pair{String,Any}(\"name\", \"HB/zenios\"),Pair{Stri…"
      ]
     },
     "execution_count": 93,
     "metadata": {},
     "output_type": "execute_result"
    }
   ],
   "source": [
    "vars = matread(\"/home/restrin/Downloads/zenios.mat\")"
   ]
  },
  {
   "cell_type": "code",
   "execution_count": 94,
   "metadata": {
    "collapsed": false
   },
   "outputs": [],
   "source": [
    "A = vars[\"Problem\"][\"A\"]\n",
    "n = size(A)[1]\n",
    ";"
   ]
  },
  {
   "cell_type": "code",
   "execution_count": 107,
   "metadata": {
    "collapsed": false
   },
   "outputs": [],
   "source": [
    "l = 250\n",
    "Ω = rand(n,l)\n",
    "Y = A*Ω#(A*(A*Ω))\n",
    "Q,~ = qr(Y)\n",
    ";"
   ]
  },
  {
   "cell_type": "code",
   "execution_count": 108,
   "metadata": {
    "collapsed": false
   },
   "outputs": [
    {
     "data": {
      "text/plain": [
       "([-1.4056, -1.24792, -1.09156, -1.0097, -0.973088, -0.889261, -0.727712, -0.696571, -0.676692, -0.664636  …  1.1933, 1.24928, 1.28892, 1.31037, 1.3823, 1.79481, 2.09819, 2.35669, 3.00979, 3.33795], [-0.0617378 -0.00123038 … 0.406735 -0.527331; 0.224348 0.00882353 … 0.0780817 -0.26282; … ; 6.45819e-7 4.40405e-6 … 6.62736e-7 -5.7494e-6; 3.45915e-6 -2.47706e-6 … -5.35604e-8 2.53953e-6])"
      ]
     },
     "execution_count": 108,
     "metadata": {},
     "output_type": "execute_result"
    }
   ],
   "source": [
    "B = Q'*(A*Q)\n",
    "#B2 = copy(B)\n",
    "(E, V) = LAPACK.syev!('V', 'L', B)"
   ]
  },
  {
   "cell_type": "code",
   "execution_count": 109,
   "metadata": {
    "collapsed": false
   },
   "outputs": [
    {
     "data": {
      "text/plain": [
       "3.846735843399548e-6"
      ]
     },
     "execution_count": 109,
     "metadata": {},
     "output_type": "execute_result"
    }
   ],
   "source": [
    "k = 1\n",
    "norm(A*Q*V[:,k] - E[k]*Q*V[:,k])"
   ]
  }
 ],
 "metadata": {
  "anaconda-cloud": {},
  "kernelspec": {
   "display_name": "Julia 0.6.2",
   "language": "julia",
   "name": "julia-0.6"
  },
  "language_info": {
   "file_extension": ".jl",
   "mimetype": "application/julia",
   "name": "julia",
   "version": "0.6.2"
  }
 },
 "nbformat": 4,
 "nbformat_minor": 1
}
