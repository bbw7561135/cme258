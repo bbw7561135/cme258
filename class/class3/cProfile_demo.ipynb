{
 "cells": [
  {
   "cell_type": "code",
   "execution_count": 1,
   "metadata": {},
   "outputs": [],
   "source": [
    "import cProfile"
   ]
  },
  {
   "cell_type": "code",
   "execution_count": 13,
   "metadata": {},
   "outputs": [],
   "source": [
    "def simple_add(a,b):\n",
    "    return a+b\n",
    "\n",
    "\n",
    "def some_code_to_profile():\n",
    "    c = 0\n",
    "    for i in xrange(10000):\n",
    "        c = c + simple_add(i,i)\n",
    "    return c\n",
    "\n"
   ]
  },
  {
   "cell_type": "code",
   "execution_count": 14,
   "metadata": {
    "scrolled": true
   },
   "outputs": [
    {
     "name": "stdout",
     "output_type": "stream",
     "text": [
      "         10003 function calls in 0.004 seconds\n",
      "\n",
      "   Ordered by: standard name\n",
      "\n",
      "   ncalls  tottime  percall  cumtime  percall filename:lineno(function)\n",
      "    10000    0.001    0.000    0.001    0.000 <ipython-input-13-b038ffa6a8cb>:1(simple_add)\n",
      "        1    0.002    0.002    0.004    0.004 <ipython-input-13-b038ffa6a8cb>:5(some_code_to_profile)\n",
      "        1    0.000    0.000    0.004    0.004 <string>:1(<module>)\n",
      "        1    0.000    0.000    0.000    0.000 {method 'disable' of '_lsprof.Profiler' objects}\n",
      "\n",
      "\n"
     ]
    }
   ],
   "source": [
    "cProfile.run('some_code_to_profile()')"
   ]
  },
  {
   "cell_type": "markdown",
   "metadata": {},
   "source": [
    "See [here](https://docs.python.org/2/library/profile.html) for documentation.\n",
    "\n",
    "Columns explained:\n",
    "* ncalls = number of times the function was called\n",
    "* tottime = total time spent in the given function (and excluding time made in calls to sub-functions)\n",
    "* percall = the quotient of tottime divided by ncalls\n",
    "* cumtime = is the cumulative time spent in this and all subfunctions\n",
    "* percall = is the quotient of cumtime divided by primitive calls\n",
    "* filename:lineno(function) = provides the respective data of each function\n",
    "\n",
    "So, the difference between the two `percall` columns is that the first excludes sub-function calls, and the second includes sub-function calls."
   ]
  }
 ],
 "metadata": {
  "kernelspec": {
   "display_name": "Python 2",
   "language": "python",
   "name": "python2"
  },
  "language_info": {
   "codemirror_mode": {
    "name": "ipython",
    "version": 2
   },
   "file_extension": ".py",
   "mimetype": "text/x-python",
   "name": "python",
   "nbconvert_exporter": "python",
   "pygments_lexer": "ipython2",
   "version": "2.7.14"
  }
 },
 "nbformat": 4,
 "nbformat_minor": 2
}
