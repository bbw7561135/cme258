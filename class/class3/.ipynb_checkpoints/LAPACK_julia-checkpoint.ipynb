{
 "cells": [
  {
   "cell_type": "markdown",
   "metadata": {},
   "source": [
    "# LAPACK via Julia\n",
    "\n",
    "See [here](https://docs.julialang.org/en/stable/stdlib/linalg/#LAPACK-Functions-1) for documentation.\n"
   ]
  },
  {
   "cell_type": "markdown",
   "metadata": {},
   "source": [
    "# Matrix Factorizations"
   ]
  },
  {
   "cell_type": "markdown",
   "metadata": {},
   "source": [
    "# LU factorization"
   ]
  },
  {
   "cell_type": "code",
   "execution_count": null,
   "metadata": {},
   "outputs": [],
   "source": []
  },
  {
   "cell_type": "markdown",
   "metadata": {},
   "source": [
    "# QR factorization"
   ]
  },
  {
   "cell_type": "code",
   "execution_count": null,
   "metadata": {},
   "outputs": [],
   "source": []
  },
  {
   "cell_type": "markdown",
   "metadata": {},
   "source": [
    "# Solving a Linear System\n",
    "\n",
    "Here, we see how to solve `A x = b` for x"
   ]
  },
  {
   "cell_type": "code",
   "execution_count": null,
   "metadata": {},
   "outputs": [],
   "source": [
    "# setup over-determined system\n",
    "m = 50\n",
    "n = 100\n",
    "A = randn(m,n)\n",
    "b = randn(m)\n",
    ";"
   ]
  },
  {
   "cell_type": "code",
   "execution_count": 47,
   "metadata": {},
   "outputs": [
    {
     "name": "stdout",
     "output_type": "stream",
     "text": [
      "norm(A * x - b) = 4.2383537028955006e-15\n"
     ]
    }
   ],
   "source": [
    "# solve using default backslash\n",
    "x = A\\b\n",
    "@show norm(A*x - b)\n",
    ";"
   ]
  },
  {
   "cell_type": "code",
   "execution_count": null,
   "metadata": {},
   "outputs": [],
   "source": []
  },
  {
   "cell_type": "code",
   "execution_count": null,
   "metadata": {},
   "outputs": [],
   "source": []
  },
  {
   "cell_type": "markdown",
   "metadata": {},
   "source": [
    "# Orthogonal matrices\n",
    "\n",
    "Sometimes it is advantageous to have an orthogonal basis for the range of a matrix.  This comes up in subspace iteration, and randomized linear algebra\n",
    "\n",
    "You can do this in-place using LAPACK functions."
   ]
  },
  {
   "cell_type": "code",
   "execution_count": 30,
   "metadata": {},
   "outputs": [
    {
     "data": {
      "text/plain": [
       "orth_naive (generic function with 1 method)"
      ]
     },
     "execution_count": 30,
     "metadata": {},
     "output_type": "execute_result"
    }
   ],
   "source": [
    "# naive way to generate random orthogonal matrix\n",
    "function orth_naive(m::Int, n::Int)\n",
    "    A = randn(m,n)\n",
    "    Q, R = qr(A)\n",
    "    return Q\n",
    "end"
   ]
  },
  {
   "cell_type": "code",
   "execution_count": 40,
   "metadata": {},
   "outputs": [
    {
     "name": "stdout",
     "output_type": "stream",
     "text": [
      "  0.000947 seconds (31 allocations: 185.797 KiB)\n"
     ]
    }
   ],
   "source": [
    "@time Q = orth_naive(m, n);"
   ]
  },
  {
   "cell_type": "code",
   "execution_count": 34,
   "metadata": {},
   "outputs": [
    {
     "data": {
      "text/plain": [
       "orth_qr (generic function with 1 method)"
      ]
     },
     "execution_count": 34,
     "metadata": {},
     "output_type": "execute_result"
    }
   ],
   "source": [
    "function orth_qr(m::Int, n::Int)\n",
    "    A = randn(m,n)\n",
    "    tau = Array{Float64}(min(m,n))\n",
    "    LAPACK.geqrf!(A, tau)\n",
    "    LAPACK.orgqr!(A, tau)\n",
    "end"
   ]
  },
  {
   "cell_type": "code",
   "execution_count": 42,
   "metadata": {},
   "outputs": [
    {
     "name": "stdout",
     "output_type": "stream",
     "text": [
      "  0.000329 seconds (14 allocations: 65.328 KiB)\n"
     ]
    }
   ],
   "source": [
    "@time Q = orth_qr(m,n)\n",
    ";"
   ]
  },
  {
   "cell_type": "code",
   "execution_count": 25,
   "metadata": {},
   "outputs": [
    {
     "data": {
      "text/plain": [
       "50-element Array{Float64,1}:\n",
       " 1.0\n",
       " 1.0\n",
       " 1.0\n",
       " 1.0\n",
       " 1.0\n",
       " 1.0\n",
       " 1.0\n",
       " 1.0\n",
       " 1.0\n",
       " 1.0\n",
       " 1.0\n",
       " 1.0\n",
       " 1.0\n",
       " ⋮  \n",
       " 1.0\n",
       " 1.0\n",
       " 1.0\n",
       " 1.0\n",
       " 1.0\n",
       " 1.0\n",
       " 1.0\n",
       " 1.0\n",
       " 1.0\n",
       " 1.0\n",
       " 1.0\n",
       " 1.0"
      ]
     },
     "execution_count": 25,
     "metadata": {},
     "output_type": "execute_result"
    }
   ],
   "source": [
    "m = 100\n",
    "n = 50\n",
    "A = randn(m,n)\n",
    "tau = ones(50)"
   ]
  },
  {
   "cell_type": "code",
   "execution_count": 11,
   "metadata": {},
   "outputs": [
    {
     "data": {
      "text/plain": [
       "100×50 Array{Float64,2}:\n",
       "  0.776874     0.642367   0.9095     …  -0.614514  -0.309239   -1.08125 \n",
       "  0.972098    -0.432803   0.90141       -0.517067  -0.182002    0.482474\n",
       "  2.00681      1.71064    0.106151      -1.59626   -1.22299    -0.587491\n",
       " -0.309134     1.86927    0.808402      -0.487107  -1.06736    -0.402978\n",
       "  0.337936    -0.490588   0.35176       -0.269578   1.77779     0.018455\n",
       " -0.230788     1.08571    0.372673   …   1.25573   -0.133441   -0.500138\n",
       " -0.931161     1.99531   -0.448667      -1.05699    1.20189     1.34043 \n",
       " -0.125857    -0.529748   0.0729222      0.027826  -1.10313     0.687639\n",
       "  1.20147      0.682912  -0.0652955      0.162213  -1.65274     0.632884\n",
       "  0.127312    -0.577203   0.48169        1.13531   -0.72665     0.285838\n",
       " -0.51805      0.53105    0.72324    …  -0.432687   1.10674     0.323312\n",
       "  0.130095     0.987484   0.537285       1.36622    0.73318     0.262954\n",
       "  0.326154     0.916292  -1.57988        0.202852   0.5925     -0.421032\n",
       "  ⋮                                  ⋱                                  \n",
       " -0.440915     0.370174  -1.20433        0.384149  -0.986018    1.12515 \n",
       "  0.00270543  -0.732534   0.601721       0.251705   1.17548    -0.409251\n",
       "  1.63064      1.08548    0.621445   …  -0.774825   0.446994    0.791883\n",
       " -1.79262     -1.93443   -0.630228      -0.81363   -0.534385   -0.408974\n",
       "  0.295556    -0.354144  -1.58595        1.40461    3.04067     1.44991 \n",
       " -1.38458     -0.839014  -0.796105      -0.838908  -0.022548    2.2075  \n",
       "  0.890131    -0.501125  -0.30531       -0.247182   1.43906    -0.958194\n",
       "  1.42768     -1.57032    1.5929     …   2.46845    0.134626   -0.375556\n",
       "  1.25908      1.36741   -0.986171      -0.521302   0.0116938  -0.24316 \n",
       "  0.161084    -0.727828   1.88165       -0.962646   1.21982     2.76505 \n",
       " -0.295955     2.66607   -0.515907      -0.529949   0.29265    -1.39014 \n",
       "  0.191802     0.497143  -0.552202      -0.657529  -1.05307     0.413027"
      ]
     },
     "execution_count": 11,
     "metadata": {},
     "output_type": "execute_result"
    }
   ],
   "source": [
    "A"
   ]
  },
  {
   "cell_type": "code",
   "execution_count": 27,
   "metadata": {},
   "outputs": [
    {
     "data": {
      "text/markdown": [
       "```\n",
       "geqrf!(A, tau)\n",
       "```\n",
       "\n",
       "Compute the `QR` factorization of `A`, `A = QR`. `tau` contains scalars which parameterize the elementary reflectors of the factorization. `tau` must have length greater than or equal to the smallest dimension of `A`.\n",
       "\n",
       "Returns `A` and `tau` modified in-place.\n",
       "\n",
       "```\n",
       "geqrf!(A) -> (A, tau)\n",
       "```\n",
       "\n",
       "Compute the `QR` factorization of `A`, `A = QR`.\n",
       "\n",
       "Returns `A`, modified in-place, and `tau`, which contains scalars which parameterize the elementary reflectors of the factorization.\n"
      ],
      "text/plain": [
       "```\n",
       "geqrf!(A, tau)\n",
       "```\n",
       "\n",
       "Compute the `QR` factorization of `A`, `A = QR`. `tau` contains scalars which parameterize the elementary reflectors of the factorization. `tau` must have length greater than or equal to the smallest dimension of `A`.\n",
       "\n",
       "Returns `A` and `tau` modified in-place.\n",
       "\n",
       "```\n",
       "geqrf!(A) -> (A, tau)\n",
       "```\n",
       "\n",
       "Compute the `QR` factorization of `A`, `A = QR`.\n",
       "\n",
       "Returns `A`, modified in-place, and `tau`, which contains scalars which parameterize the elementary reflectors of the factorization.\n"
      ]
     },
     "execution_count": 27,
     "metadata": {},
     "output_type": "execute_result"
    }
   ],
   "source": [
    "?LAPACK.geqrf!"
   ]
  },
  {
   "cell_type": "code",
   "execution_count": 28,
   "metadata": {},
   "outputs": [
    {
     "data": {
      "text/plain": [
       "100×50 Array{Float64,2}:\n",
       " -0.222605    -0.358261    -0.620136    …   0.00570208   5.24578e-5\n",
       " -0.0434216   -0.0438104    0.00347744      0.0968814    0.0353836 \n",
       "  0.00975895   9.01022e-5  -0.0612579       0.0221136   -0.00854964\n",
       " -0.088416     0.0907956   -0.120466       -0.137229     0.00603019\n",
       "  0.0789567   -0.140578    -0.0719941      -0.00824626   0.0673476 \n",
       "  0.151405     0.075423    -0.138896    …  -0.117909    -0.0130412 \n",
       " -0.0392106    0.125789     0.0343626       0.121148     0.104176  \n",
       " -0.129279    -0.0521575   -0.00771358     -0.123312    -0.114802  \n",
       "  0.0169095   -0.00672466  -0.0790353       0.13126     -0.00353384\n",
       "  0.134675    -0.143329    -0.0332516      -0.0842463    0.0398564 \n",
       " -0.222136     0.116314    -0.0107051   …  -0.00619564   0.0564778 \n",
       "  0.0239325    0.00541247  -0.154027       -0.0369635    0.0186839 \n",
       " -0.0167644    0.0639019    0.0425752      -0.0706325    0.00423717\n",
       "  ⋮                                     ⋱                          \n",
       " -0.107958     0.0653579   -0.0356336       0.0112935    0.0412751 \n",
       "  0.0142361   -0.022659    -0.00687761      0.0105647    0.0132563 \n",
       " -0.0641043    0.0275878    0.151063    …   0.0419347    0.0311797 \n",
       " -0.025787    -0.00525126  -0.0298158      -0.0527045   -0.0257811 \n",
       " -0.064363    -0.0647329   -0.0631825       0.0369601   -0.0201362 \n",
       "  0.124405     0.160196    -0.168424       -0.0180131   -0.00976952\n",
       "  0.00571306   0.0411926   -0.0267667       0.047441     0.00501312\n",
       " -0.205029    -0.00123111  -0.118468    …   0.0486799   -0.0470546 \n",
       " -0.109446     0.215931    -0.102356       -0.0270065   -0.021193  \n",
       " -0.14118      0.0767259    0.053038        0.0141611   -0.00994434\n",
       "  0.0913946    0.038591    -0.0293501       0.767145     0.0107815 \n",
       "  0.0876084   -0.0688049    0.0202951       0.0471043   -0.896848  "
      ]
     },
     "execution_count": 28,
     "metadata": {},
     "output_type": "execute_result"
    }
   ],
   "source": [
    "LAPACK.geqrf!(A, tau)\n",
    "LAPACK.orgqr!(A, tau)"
   ]
  },
  {
   "cell_type": "code",
   "execution_count": 29,
   "metadata": {},
   "outputs": [
    {
     "data": {
      "text/plain": [
       "50×50 Array{Float64,2}:\n",
       "  1.0          -2.05084e-18  -5.95963e-17  …  -8.31812e-18  -1.01342e-17\n",
       " -2.05084e-18   1.0           5.13035e-17     -7.11254e-18  -4.64578e-17\n",
       " -5.95963e-17   5.13035e-17   1.0              3.81377e-18   2.26222e-17\n",
       "  4.2297e-17    1.6084e-17    1.80819e-17      2.32224e-18  -2.67584e-17\n",
       "  6.80239e-17   5.20854e-17  -2.90486e-17     -4.9852e-17    8.40373e-17\n",
       " -9.24123e-17  -4.7988e-17   -2.60991e-17  …   9.77851e-18  -4.97543e-17\n",
       "  3.51664e-18   3.37743e-17  -3.74697e-17     -1.07802e-16  -7.1472e-17 \n",
       " -2.39848e-17   5.5169e-17    2.11418e-17     -5.91497e-17   1.9963e-19 \n",
       "  1.51109e-17   1.34444e-17  -2.68628e-17     -3.10696e-17  -2.85716e-17\n",
       "  1.20292e-17   1.88441e-17   8.11972e-18      4.2364e-17    2.74858e-18\n",
       "  4.96247e-17  -4.10462e-17   4.15589e-17  …   4.81734e-17  -5.18597e-17\n",
       "  2.56282e-17   1.53231e-18  -3.00233e-17      4.73077e-17  -1.32254e-17\n",
       " -8.02218e-17  -4.12175e-17  -1.65932e-17      6.53438e-17  -4.40044e-17\n",
       "  ⋮                                        ⋱                            \n",
       "  2.4557e-17   -2.99751e-17  -1.35009e-17     -6.69594e-18  -3.28924e-17\n",
       " -2.52273e-19   7.4274e-18   -4.91981e-18      2.86564e-17   2.45434e-17\n",
       "  9.1133e-18    3.09751e-17  -6.75165e-18  …   4.14217e-17  -2.70882e-17\n",
       "  1.21711e-17  -2.66833e-18   2.07784e-18      7.79963e-18   2.17022e-17\n",
       "  2.43603e-17   1.34363e-17   1.6385e-17      -5.1161e-17    2.88595e-17\n",
       "  4.17884e-18   1.82808e-17   3.28407e-17     -4.15855e-17  -1.50515e-17\n",
       " -4.12465e-19   7.72827e-19  -1.28637e-17     -7.73561e-17  -1.07452e-18\n",
       "  1.60561e-17  -1.08832e-17   3.7532e-17   …  -1.69341e-17   2.75354e-17\n",
       "  2.54697e-17   3.26359e-17   1.12425e-17      4.09935e-17   1.6716e-20 \n",
       " -9.25516e-18   1.06888e-17  -7.57307e-18      4.29874e-17   9.32379e-17\n",
       " -8.31812e-18  -7.11254e-18   3.81377e-18      1.0           1.59298e-17\n",
       " -1.01342e-17  -4.64578e-17   2.26222e-17      1.59298e-17   1.0        "
      ]
     },
     "execution_count": 29,
     "metadata": {},
     "output_type": "execute_result"
    }
   ],
   "source": [
    "A'*A"
   ]
  },
  {
   "cell_type": "code",
   "execution_count": null,
   "metadata": {},
   "outputs": [],
   "source": []
  }
 ],
 "metadata": {
  "kernelspec": {
   "display_name": "Julia 0.6.2",
   "language": "julia",
   "name": "julia-0.6"
  },
  "language_info": {
   "file_extension": ".jl",
   "mimetype": "application/julia",
   "name": "julia",
   "version": "0.6.2"
  }
 },
 "nbformat": 4,
 "nbformat_minor": 2
}
