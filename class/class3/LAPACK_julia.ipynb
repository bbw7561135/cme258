{
 "cells": [
  {
   "cell_type": "markdown",
   "metadata": {},
   "source": [
    "# LAPACK via Julia\n",
    "\n",
    "See [here](https://docs.julialang.org/en/stable/stdlib/linalg/#LAPACK-Functions-1) for documentation of Julia's LAPACK interface.  There is more than what we see here."
   ]
  },
  {
   "cell_type": "markdown",
   "metadata": {},
   "source": [
    "# Solving a Linear System\n",
    "\n",
    "Here, we see how to solve `A x = b` for x.  This uses LAPCK's `gesv` function."
   ]
  },
  {
   "cell_type": "code",
   "execution_count": 24,
   "metadata": {},
   "outputs": [],
   "source": [
    "# setup square system\n",
    "m = 50\n",
    "n = 50\n",
    "A = randn(m,n)\n",
    "b = randn(m)\n",
    ";"
   ]
  },
  {
   "cell_type": "code",
   "execution_count": 32,
   "metadata": {},
   "outputs": [
    {
     "name": "stdout",
     "output_type": "stream",
     "text": [
      "  0.008339 seconds (12 allocations: 20.953 KiB)\n",
      "norm(A * x - b) = 3.1145164996471335e-14\n"
     ]
    }
   ],
   "source": [
    "# solve using default backslash\n",
    "@time x = A\\b\n",
    "@show norm(A*x - b)\n",
    ";"
   ]
  },
  {
   "cell_type": "code",
   "execution_count": null,
   "metadata": {},
   "outputs": [],
   "source": [
    "A0 = copy(A)\n",
    "b0 = copy(b)"
   ]
  },
  {
   "cell_type": "code",
   "execution_count": 33,
   "metadata": {},
   "outputs": [
    {
     "name": "stdout",
     "output_type": "stream",
     "text": [
      "  0.007570 seconds (7 allocations: 752 bytes)\n",
      "norm(A0 * b - b0) = 4.0429393090254516e-14\n",
      "norm(b - x) = 17.032199190832504\n"
     ]
    }
   ],
   "source": [
    "A = copy(A0)\n",
    "b = copy(b0)\n",
    "# gesv - solve linear system with general matrix\n",
    "# overwrites A with its LU factorization\n",
    "# overwrites b with solution x\n",
    "@time LAPACK.gesv!(A, b) \n",
    "@show norm(A0*b - b0)\n",
    "@show norm(b - x)\n",
    ";"
   ]
  },
  {
   "cell_type": "markdown",
   "metadata": {},
   "source": [
    "You can also solve multiple right hand sides by stacking them into a matrix"
   ]
  },
  {
   "cell_type": "code",
   "execution_count": 49,
   "metadata": {},
   "outputs": [],
   "source": [
    "B0 = randn(m,3) # 3 RHS\n",
    ";"
   ]
  },
  {
   "cell_type": "code",
   "execution_count": 51,
   "metadata": {},
   "outputs": [
    {
     "name": "stdout",
     "output_type": "stream",
     "text": [
      "  0.013350 seconds (7 allocations: 752 bytes)\n",
      "norm(A0 * B - B0) = 8.33825480907231e-14\n"
     ]
    }
   ],
   "source": [
    "B = copy(B0)\n",
    "A = copy(A0)\n",
    "@time LAPACK.gesv!(A,B)\n",
    "@show norm(A0*B - B0)\n",
    ";"
   ]
  },
  {
   "cell_type": "markdown",
   "metadata": {},
   "source": [
    "# Linear Least Squares\n",
    "\n",
    "This uses `gels`.  We'll use standard statistical notation instead of Householder notation"
   ]
  },
  {
   "cell_type": "code",
   "execution_count": 78,
   "metadata": {},
   "outputs": [
    {
     "name": "stdout",
     "output_type": "stream",
     "text": [
      "  0.000221 seconds (16 allocations: 53.328 KiB)\n",
      "norm(X0 * β - y0) = 3.195128509104355e-14\n",
      "norm(β - β0) = 3.745781777859878e-15\n"
     ]
    }
   ],
   "source": [
    "n = 100\n",
    "p = 50\n",
    "X0 = randn(n,p)\n",
    "β0 = randn(p)\n",
    "y0 = X0*β0 # create exact solution\n",
    "# min_x ∥Xβ - y∥^2\n",
    "# gels - linear least squares\n",
    "# Overwrites X with QR factorization \n",
    "# Overwrites y with solution β\n",
    "X = copy(X0)\n",
    "y = copy(y0)\n",
    "@time LAPACK.gels!('N', X, y)\n",
    "β = y[1:50]\n",
    "@show norm(X0*β - y0)\n",
    "@show norm(β - β0)\n",
    ";"
   ]
  },
  {
   "cell_type": "markdown",
   "metadata": {},
   "source": [
    "# Eigenvalues and Eigenvectors"
   ]
  },
  {
   "cell_type": "code",
   "execution_count": 38,
   "metadata": {},
   "outputs": [],
   "source": [
    "n = 50\n",
    "A = randn(n,n)\n",
    "S = A*A'\n",
    "S0 = copy(S)\n",
    ";"
   ]
  },
  {
   "cell_type": "code",
   "execution_count": 39,
   "metadata": {},
   "outputs": [
    {
     "data": {
      "text/markdown": [
       "```\n",
       "syev!(jobz, uplo, A)\n",
       "```\n",
       "\n",
       "Finds the eigenvalues (`jobz = N`) or eigenvalues and eigenvectors (`jobz = V`) of a symmetric matrix `A`. If `uplo = U`, the upper triangle of `A` is used. If `uplo = L`, the lower triangle of `A` is used.\n"
      ],
      "text/plain": [
       "```\n",
       "syev!(jobz, uplo, A)\n",
       "```\n",
       "\n",
       "Finds the eigenvalues (`jobz = N`) or eigenvalues and eigenvectors (`jobz = V`) of a symmetric matrix `A`. If `uplo = U`, the upper triangle of `A` is used. If `uplo = L`, the lower triangle of `A` is used.\n"
      ]
     },
     "execution_count": 39,
     "metadata": {},
     "output_type": "execute_result"
    }
   ],
   "source": [
    "?LAPACK.syev!"
   ]
  },
  {
   "cell_type": "code",
   "execution_count": 79,
   "metadata": {},
   "outputs": [
    {
     "name": "stdout",
     "output_type": "stream",
     "text": [
      "  0.001362 seconds (11 allocations: 14.328 KiB)\n",
      "norm(S - V) = 0.0\n"
     ]
    }
   ],
   "source": [
    "S = copy(S0)\n",
    "@time (E, V) = LAPACK.syev!('V', 'L', S)\n",
    "# we see that S gets over-written with eigenvectors\n",
    "@show norm(S - V)\n",
    ";"
   ]
  },
  {
   "cell_type": "markdown",
   "metadata": {},
   "source": [
    "# Orthogonal matrices\n",
    "\n",
    "Sometimes it is advantageous to have an orthogonal basis for the range of a matrix.  This comes up in subspace iteration, and randomized linear algebra\n",
    "\n",
    "You can do this in-place using LAPACK functions."
   ]
  },
  {
   "cell_type": "code",
   "execution_count": 30,
   "metadata": {},
   "outputs": [
    {
     "data": {
      "text/plain": [
       "orth_naive (generic function with 1 method)"
      ]
     },
     "execution_count": 30,
     "metadata": {},
     "output_type": "execute_result"
    }
   ],
   "source": [
    "# naive way to generate random orthogonal matrix\n",
    "function orth_naive(m::Int, n::Int)\n",
    "    A = randn(m,n)\n",
    "    Q, R = qr(A)\n",
    "    return Q\n",
    "end"
   ]
  },
  {
   "cell_type": "code",
   "execution_count": 40,
   "metadata": {},
   "outputs": [
    {
     "name": "stdout",
     "output_type": "stream",
     "text": [
      "  0.000947 seconds (31 allocations: 185.797 KiB)\n"
     ]
    }
   ],
   "source": [
    "@time Q = orth_naive(m, n);"
   ]
  },
  {
   "cell_type": "code",
   "execution_count": 34,
   "metadata": {},
   "outputs": [
    {
     "data": {
      "text/plain": [
       "orth_qr (generic function with 1 method)"
      ]
     },
     "execution_count": 34,
     "metadata": {},
     "output_type": "execute_result"
    }
   ],
   "source": [
    "function orth_qr(m::Int, n::Int)\n",
    "    A = randn(m,n)\n",
    "    tau = Array{Float64}(min(m,n))\n",
    "    LAPACK.geqrf!(A, tau)\n",
    "    LAPACK.orgqr!(A, tau)\n",
    "end"
   ]
  },
  {
   "cell_type": "code",
   "execution_count": 42,
   "metadata": {},
   "outputs": [
    {
     "name": "stdout",
     "output_type": "stream",
     "text": [
      "  0.000329 seconds (14 allocations: 65.328 KiB)\n"
     ]
    }
   ],
   "source": [
    "@time Q = orth_qr(m,n)\n",
    ";"
   ]
  }
 ],
 "metadata": {
  "kernelspec": {
   "display_name": "Julia 0.6.2",
   "language": "julia",
   "name": "julia-0.6"
  },
  "language_info": {
   "file_extension": ".jl",
   "mimetype": "application/julia",
   "name": "julia",
   "version": "0.6.2"
  }
 },
 "nbformat": 4,
 "nbformat_minor": 2
}
