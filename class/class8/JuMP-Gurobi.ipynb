{
 "cells": [
  {
   "cell_type": "code",
   "execution_count": 1,
   "metadata": {},
   "outputs": [],
   "source": [
    "using JuMP, Gurobi\n",
    "# examples taken from https://github.com/JuliaOpt/Gurobi.jl"
   ]
  },
  {
   "cell_type": "code",
   "execution_count": 3,
   "metadata": {},
   "outputs": [
    {
     "name": "stdout",
     "output_type": "stream",
     "text": [
      "Academic license - for non-commercial use only\n",
      "Optimize a model with 2 rows, 2 columns and 4 nonzeros\n",
      "Variable types: 0 continuous, 2 integer (0 binary)\n",
      "Coefficient statistics:\n",
      "  Matrix range     [2e+01, 5e+01]\n",
      "  Objective range  [1e+00, 1e+00]\n",
      "  Bounds range     [5e+00, 4e+01]\n",
      "  RHS range        [2e+03, 2e+03]\n",
      "Found heuristic solution: objective 50.0000000\n",
      "\n",
      "Explored 0 nodes (0 simplex iterations) in 0.00 seconds\n",
      "Thread count was 1 (of 4 available processors)\n",
      "\n",
      "Solution count 1: 50 \n",
      "\n",
      "Optimal solution found (tolerance 1.00e-04)\n",
      "Best objective 5.000000000000e+01, best bound 5.000000000000e+01, gap 0.0000%\n",
      "Optimal objective: 50.0. x = 5.0 y = 45.0\n"
     ]
    }
   ],
   "source": [
    "# pass params as keyword arguments to GurobiSolver\n",
    "m = Model(solver=GurobiSolver(Presolve=1))\n",
    "\n",
    "@variable(m, x >= 5, Int)\n",
    "@variable(m, y >= 45, Int)\n",
    "\n",
    "@objective(m, Min, x + y)\n",
    "@constraint(m, 50x + 24y <= 2400)\n",
    "@constraint(m, 30x + 33y <= 2100)\n",
    "\n",
    "status = solve(m)\n",
    "println(\"Optimal objective: \",getobjectivevalue(m), \n",
    "\t\". x = \", getvalue(x), \" y = \", getvalue(y))"
   ]
  },
  {
   "cell_type": "code",
   "execution_count": 5,
   "metadata": {},
   "outputs": [
    {
     "name": "stdout",
     "output_type": "stream",
     "text": [
      "Academic license - for non-commercial use only\n",
      "Optimize a model with 2 rows, 3 columns and 5 nonzeros\n",
      "Model has 5 quadratic objective terms\n",
      "Coefficient statistics:\n",
      "  Matrix range     [1e+00, 3e+00]\n",
      "  Objective range  [0e+00, 0e+00]\n",
      "  QObjective range [2e+00, 2e+00]\n",
      "  Bounds range     [0e+00, 0e+00]\n",
      "  RHS range        [1e+00, 4e+00]\n",
      "Presolve time: 0.00s\n",
      "Presolved: 2 rows, 3 columns, 5 nonzeros\n",
      "Presolved model has 5 quadratic objective terms\n",
      "Ordering time: 0.00s\n",
      "\n",
      "Barrier statistics:\n",
      " Free vars  : 5\n",
      " AA' NZ     : 6.000e+00\n",
      " Factor NZ  : 1.000e+01\n",
      " Factor Ops : 3.000e+01 (less than 1 second per iteration)\n",
      " Threads    : 1\n",
      "\n",
      "                  Objective                Residual\n",
      "Iter       Primal          Dual         Primal    Dual     Compl     Time\n",
      "   0   4.75823538e-13 -4.75823538e-13  2.00e+00 4.21e-07  9.98e+05     0s\n",
      "   1   1.44987169e+05 -1.43989081e+05  2.27e-08 1.97e-04  1.44e+05     0s\n",
      "   2   2.13605434e+04 -2.09773620e+04  2.58e-08 1.21e-04  2.12e+04     0s\n",
      "   3   3.17522703e+03 -3.02742005e+03  1.84e-09 8.83e-06  3.10e+03     0s\n",
      "   4   4.83094875e+02 -4.25374712e+02  3.55e-15 1.50e-11  4.54e+02     0s\n",
      "   5   7.80423932e+01 -5.47770713e+01  1.78e-15 2.33e-12  6.64e+01     0s\n",
      "   6   1.46666489e+01 -4.51420405e+00  4.44e-16 8.76e-13  9.59e+00     0s\n",
      "   7   3.93851896e+00  1.38911900e+00  4.44e-16 3.21e-13  1.27e+00     0s\n",
      "   8   2.05386269e+00  1.84296662e+00  0.00e+00 1.20e-13  1.05e-01     0s\n",
      "   9   1.86240194e+00  1.85711688e+00  9.17e-14 5.39e-10  2.64e-03     0s\n",
      "  10   1.85714809e+00  1.85714285e+00  1.76e-12 4.30e-09  2.62e-06     0s\n",
      "  11   1.85714286e+00  1.85714286e+00  1.55e-15 4.31e-12  2.62e-09     0s\n",
      "\n",
      "Barrier solved model in 11 iterations and 0.00 seconds\n",
      "Optimal objective 1.85714286e+00\n",
      "\n"
     ]
    }
   ],
   "source": [
    "env = Gurobi.Env()\n",
    "\n",
    "model = gurobi_model(env; \n",
    "        name = \"qp_01\", \n",
    "        H = [2. 1. 0.; 1. 2. 1.; 0. 1. 2.], \n",
    "        f = [0., 0., 0.], \n",
    "        A = -[1. 2. 3.; 1. 1. 0.], \n",
    "        b = -[4., 1.])\n",
    "optimize(model)"
   ]
  },
  {
   "cell_type": "code",
   "execution_count": 6,
   "metadata": {},
   "outputs": [
    {
     "name": "stdout",
     "output_type": "stream",
     "text": [
      "Academic license - for non-commercial use only\n",
      "Optimize a model with 2 rows, 3 columns and 6 nonzeros\n",
      "Variable types: 1 continuous, 2 integer (1 binary)\n",
      "Coefficient statistics:\n",
      "  Matrix range     [1e+00, 2e+00]\n",
      "  Objective range  [1e+00, 5e+00]\n",
      "  Bounds range     [1e+00, 1e+01]\n",
      "  RHS range        [1e+01, 2e+01]\n",
      "Found heuristic solution: objective 15.0000000\n",
      "Presolve removed 0 rows and 1 columns\n",
      "Presolve time: 0.00s\n",
      "Presolved: 2 rows, 2 columns, 4 nonzeros\n",
      "Found heuristic solution: objective 19.0000000\n",
      "Variable types: 0 continuous, 2 integer (0 binary)\n",
      "\n",
      "Root relaxation: cutoff, 1 iterations, 0.00 seconds\n",
      "\n",
      "    Nodes    |    Current Node    |     Objective Bounds      |     Work\n",
      " Expl Unexpl |  Obj  Depth IntInf | Incumbent    BestBd   Gap | It/Node Time\n",
      "\n",
      "     0     0     cutoff    0        19.00000   19.00000  0.00%     -    0s\n",
      "\n",
      "Explored 0 nodes (1 simplex iterations) in 0.00 seconds\n",
      "Thread count was 4 (of 4 available processors)\n",
      "\n",
      "Solution count 1: 19 \n",
      "\n",
      "Optimal solution found (tolerance 1.00e-04)\n",
      "Best objective 1.900000000000e+01, best bound 1.900000000000e+01, gap 0.0000%\n"
     ]
    },
    {
     "data": {
      "text/plain": [
       ":Optimal"
      ]
     },
     "execution_count": 6,
     "metadata": {},
     "output_type": "execute_result"
    }
   ],
   "source": [
    "m = Model(solver=GurobiSolver())\n",
    "\n",
    "@variables(m,begin\n",
    "    0 <= x <= 5\n",
    "    0 <= y <= 10, Int\n",
    "    z, Bin\n",
    "end)\n",
    "\n",
    "@objective(m, Max, x + 2y + 5z)\n",
    "@constraint(m, x + y + z <= 10)\n",
    "@constraint(m, x + 2y + z <= 15)\n",
    "\n",
    "solve(m)"
   ]
  },
  {
   "cell_type": "code",
   "execution_count": null,
   "metadata": {},
   "outputs": [],
   "source": []
  }
 ],
 "metadata": {
  "kernelspec": {
   "display_name": "Julia 0.6.2",
   "language": "julia",
   "name": "julia-0.6"
  },
  "language_info": {
   "file_extension": ".jl",
   "mimetype": "application/julia",
   "name": "julia",
   "version": "0.6.2"
  }
 },
 "nbformat": 4,
 "nbformat_minor": 2
}
