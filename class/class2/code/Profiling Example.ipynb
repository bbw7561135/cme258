{
 "cells": [
  {
   "cell_type": "code",
   "execution_count": 24,
   "metadata": {
    "collapsed": true
   },
   "outputs": [],
   "source": [
    "import numpy as np\n",
    "import scipy as sp\n",
    "import scipy.linalg\n",
    "import random\n",
    "import cProfile"
   ]
  },
  {
   "cell_type": "code",
   "execution_count": 52,
   "metadata": {
    "collapsed": false
   },
   "outputs": [],
   "source": [
    "n = 500\n",
    "A = np.random.rand(n,n)\n",
    "A = A.dot(A.T)\n",
    "b = np.random.rand(n,1)"
   ]
  },
  {
   "cell_type": "code",
   "execution_count": 53,
   "metadata": {
    "collapsed": false
   },
   "outputs": [],
   "source": [
    "def solve_with_cholesky(A,b):\n",
    "    G = sp.linalg.cho_factor(A)\n",
    "    sp.linalg.cho_solve(G,b)\n",
    "    \n",
    "def solve_many_times(k,A,b):\n",
    "    for _ in range(k):\n",
    "        sp.linalg.solve(A,b)\n",
    "        \n",
    "def solve_many_times_chol(k,A,b):\n",
    "    for _ in range(k):\n",
    "        solve_with_cholesky(A,b)    "
   ]
  },
  {
   "cell_type": "code",
   "execution_count": 55,
   "metadata": {
    "collapsed": false
   },
   "outputs": [
    {
     "name": "stdout",
     "output_type": "stream",
     "text": [
      "         55004 function calls in 1.500 seconds\n",
      "\n",
      "   Ordered by: standard name\n",
      "\n",
      "   ncalls  tottime  percall  cumtime  percall filename:lineno(function)\n",
      "        1    0.003    0.003    1.500    1.500 <ipython-input-53-8924fb731c47>:5(solve_many_times)\n",
      "        1    0.000    0.000    1.500    1.500 <string>:1(<module>)\n",
      "     2000    0.001    0.000    0.027    0.000 _methods.py:40(_all)\n",
      "     2000    0.011    0.000    0.256    0.000 _util.py:182(_asarray_validated)\n",
      "     2000    0.001    0.000    0.003    0.000 base.py:1081(isspmatrix)\n",
      "     1000    1.208    0.001    1.497    0.001 basic.py:25(solve)\n",
      "     1000    0.005    0.000    0.019    0.000 blas.py:177(find_best_blas_type)\n",
      "     1000    0.008    0.000    0.030    0.000 blas.py:226(_get_funcs)\n",
      "     2000    0.001    0.000    0.001    0.000 core.py:6042(isMaskedArray)\n",
      "     2000    0.210    0.000    0.241    0.000 function_base.py:970(asarray_chkfinite)\n",
      "     1000    0.002    0.000    0.032    0.000 lapack.py:417(get_lapack_funcs)\n",
      "     2000    0.000    0.000    0.000    0.000 misc.py:169(_datacopied)\n",
      "     2000    0.002    0.000    0.002    0.000 numeric.py:414(asarray)\n",
      "     2000    0.009    0.000    0.010    0.000 numerictypes.py:942(_can_coerce_all)\n",
      "     1000    0.002    0.000    0.012    0.000 numerictypes.py:964(find_common_type)\n",
      "     2000    0.002    0.000    0.002    0.000 {getattr}\n",
      "     5000    0.002    0.000    0.002    0.000 {isinstance}\n",
      "    17000    0.001    0.000    0.001    0.000 {len}\n",
      "     2000    0.002    0.000    0.029    0.000 {method 'all' of 'numpy.ndarray' objects}\n",
      "     1000    0.000    0.000    0.000    0.000 {method 'append' of 'list' objects}\n",
      "        1    0.000    0.000    0.000    0.000 {method 'disable' of '_lsprof.Profiler' objects}\n",
      "     2000    0.000    0.000    0.000    0.000 {method 'get' of 'dict' objects}\n",
      "     1000    0.001    0.000    0.001    0.000 {method 'index' of 'list' objects}\n",
      "     2000    0.026    0.000    0.026    0.000 {method 'reduce' of 'numpy.ufunc' objects}\n",
      "     2000    0.000    0.000    0.000    0.000 {numpy.core.multiarray.array}\n",
      "        1    0.000    0.000    0.000    0.000 {range}\n",
      "\n",
      "\n"
     ]
    }
   ],
   "source": [
    "cProfile.run('solve_many_times(1000,A,b)')"
   ]
  }
 ],
 "metadata": {
  "anaconda-cloud": {},
  "kernelspec": {
   "display_name": "Python [default]",
   "language": "python",
   "name": "python2"
  },
  "language_info": {
   "codemirror_mode": {
    "name": "ipython",
    "version": 2
   },
   "file_extension": ".py",
   "mimetype": "text/x-python",
   "name": "python",
   "nbconvert_exporter": "python",
   "pygments_lexer": "ipython2",
   "version": "2.7.12"
  }
 },
 "nbformat": 4,
 "nbformat_minor": 1
}
