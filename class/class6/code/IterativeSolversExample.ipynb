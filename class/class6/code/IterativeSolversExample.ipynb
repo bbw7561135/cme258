{
 "cells": [
  {
   "cell_type": "code",
   "execution_count": 3,
   "metadata": {
    "collapsed": false
   },
   "outputs": [
    {
     "name": "stderr",
     "output_type": "stream",
     "text": [
      "\u001b[1m\u001b[36mINFO: \u001b[39m\u001b[22m\u001b[36mPrecompiling module LinearMaps.\n",
      "\u001b[39m\u001b[1m\u001b[36mINFO: \u001b[39m\u001b[22m\u001b[36mPrecompiling module IterativeSolvers.\n",
      "\u001b[39m"
     ]
    }
   ],
   "source": [
    "using LinearMaps\n",
    "using IterativeSolvers"
   ]
  },
  {
   "cell_type": "code",
   "execution_count": 36,
   "metadata": {
    "collapsed": false
   },
   "outputs": [],
   "source": [
    "n = 100\n",
    "A = rand(n,n)\n",
    "A = A*A'\n",
    "b = rand(n,1)\n",
    ";"
   ]
  },
  {
   "cell_type": "code",
   "execution_count": 42,
   "metadata": {
    "collapsed": false
   },
   "outputs": [],
   "source": [
    "function matvec(y::AbstractVector, x::AbstractVector)\n",
    "    y = A*x\n",
    "end\n",
    "\n",
    "LM = LinearMap(matvec, n, ismutating=false, issymmetric=true, isposdef=true)\n",
    ";"
   ]
  },
  {
   "cell_type": "code",
   "execution_count": 52,
   "metadata": {
    "collapsed": false
   },
   "outputs": [
    {
     "name": "stdout",
     "output_type": "stream",
     "text": [
      "norm(A * x - b) = 5.020893547078347e-8\n",
      "norm(A * x - b) = 5.020893547078347e-8\n"
     ]
    }
   ],
   "source": [
    "x = zeros(n)\n",
    "cg!(x, A , b, initially_zero=true, verbose=false, maxiter=3*n)\n",
    "@show norm(A*x-b)\n",
    "\n",
    "x = zeros(n)\n",
    "cg!(x, LM, b, initially_zero=true, verbose=false, maxiter=3*n)\n",
    "@show norm(A*x-b)\n",
    ";"
   ]
  }
 ],
 "metadata": {
  "kernelspec": {
   "display_name": "Julia 0.6.2",
   "language": "julia",
   "name": "julia-0.6"
  },
  "language_info": {
   "file_extension": ".jl",
   "mimetype": "application/julia",
   "name": "julia",
   "version": "0.6.2"
  }
 },
 "nbformat": 4,
 "nbformat_minor": 1
}
